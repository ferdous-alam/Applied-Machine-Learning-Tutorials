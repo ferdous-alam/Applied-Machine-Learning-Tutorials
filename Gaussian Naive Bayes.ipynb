{
 "cells": [
  {
   "cell_type": "code",
   "execution_count": 23,
   "metadata": {},
   "outputs": [
    {
     "name": "stdout",
     "output_type": "stream",
     "text": [
      "There are 90 samples in the training set and 60 sampels in the test set\n",
      "The accuracy of the model is:\n",
      "--------------------------------\n",
      "0.7833333333333333\n",
      "Misclassified samples: 13\n"
     ]
    },
    {
     "data": {
      "image/png": "[encoded data removed]",
      "text/plain": [
       "<Figure size 432x288 with 1 Axes>"
      ]
     },
     "metadata": {},
     "output_type": "display_data"
    }
   ],
   "source": [
    "import numpy as np      #linear algebra\n",
    "import pandas as pd      #data processing\n",
    "from sklearn.naive_bayes import GaussianNB\n",
    "from sklearn import model_selection\n",
    "from sklearn import datasets\n",
    "from sklearn import metrics\n",
    "import matplotlib.pyplot as plt\n",
    "import seaborn as sns\n",
    "from sklearn.model_selection import train_test_split\n",
    "from sklearn.metrics import accuracy_score\n",
    "from sklearn.metrics import classification_report\n",
    "from sklearn.metrics import confusion_matrix\n",
    "from matplotlib.colors import ListedColormap\n",
    "\n",
    "\n",
    "#load data\n",
    "iris = datasets.load_iris()\n",
    "X = iris.data[:,:2]\n",
    "Y = iris.target\n",
    "\n",
    "#split into training and test data\n",
    "X_train, X_test, Y_train, Y_test = train_test_split(X, Y, test_size = 0.4, \n",
    "                                                    random_state = 5)\n",
    "\n",
    "print('There are {} samples in the training set and {} sampels in the test set'\n",
    "      .format(X_train.shape[0], Y_test.shape[0]))\n",
    "\n",
    "################# plot data ############\n",
    "markers = ('o', 'x','s')\n",
    "colors = ('magenta', 'blue', 'red')\n",
    "cmap = ListedColormap(colors[:len(np.unique(Y_test))])\n",
    "for idx, cl in enumerate(np.unique(Y)): \n",
    "    plt.scatter(x=X[Y==cl, 0], y=X[Y==cl, 1], c=cmap(idx), \n",
    "                marker = markers[idx], label=cl, s =75 )\n",
    "plt.xlabel('Sepal length', fontsize = 20)\n",
    "plt.ylabel('Sepal width', fontsize = 20)\n",
    "\n",
    "#performing gaussian naive bayes\n",
    "clf = GaussianNB()\n",
    "clf.fit(X_train,Y_train)\n",
    "Y_pred= clf.predict(X_test)\n",
    "prob_pos_clf = clf.predict_proba(X_test)[:,1]\n",
    "\n",
    "#accuracy of the model\n",
    "print(\"The accuracy of the model is:\")\n",
    "print(\"--------------------------------\")\n",
    "print(metrics.accuracy_score(Y_test, Y_pred))\n",
    "\n",
    "#Plot the decision surface\n",
    "x_min, x_max = X[:,0].min() - .5, X[:,0].max() + .5\n",
    "y_min, y_max = X[:,1].min() - .5, X[:,1].max() + .5\n",
    "h = 0.02  #step size in mesh\n",
    "\n",
    "xx,yy = np.meshgrid(np.arange(x_min, x_max, h), np.arange(y_min, y_max, h))\n",
    "Z = clf.predict(np.c_[xx.ravel(), yy.ravel()])\n",
    "\n",
    "#Put the result into a color plot\n",
    "Z = Z.reshape(xx.shape)\n",
    "plt.pcolormesh(xx, yy, Z, cmap = plt.cm.Paired)\n",
    "Z = Z.reshape(xx.shape)\n",
    "plt.pcolormesh(xx, yy, Z, cmap = plt.cm.Paired)\n",
    "#plot the training points \n",
    "#plt.scatter(X[:, 0], X[:, 1], c = Y, edgecolors = 'k', cmap = plt.cm.Paired)\n",
    "\n",
    "markers = ('o', 'x','s')\n",
    "colors = ('magenta', 'blue', 'red')\n",
    "cmap = ListedColormap(colors[:len(np.unique(Y_test))])\n",
    "for idx, cl in enumerate(np.unique(Y)): \n",
    "    plt.scatter(x=X[Y==cl, 0], y=X[Y==cl, 1], c=cmap(idx), \n",
    "                marker = markers[idx], label=cl, s = 75)\n",
    "plt.xlabel('Sepal length', fontsize = 20)\n",
    "plt.ylabel('Sepal width', fontsize = 20)\n",
    "\n",
    "plt.xlim(xx.min(),xx.max())\n",
    "plt.ylim(yy.min(),yy.max())\n",
    "plt.xticks(())\n",
    "plt.yticks(())\n",
    "\n",
    "#plt.show()\n",
    "plt.savefig('GNB_iris_1.eps', format='eps', dpi=1000)\n",
    "print('Misclassified samples: %d' % (Y_test != Y_pred).sum())"
   ]
  },
  {
   "cell_type": "code",
   "execution_count": 27,
   "metadata": {},
   "outputs": [
    {
     "name": "stdout",
     "output_type": "stream",
     "text": [
      "The accuracy of the model is:\n",
      "--------------------------------\n",
      "0.9666666666666667\n",
      "Misclassified samples: 2\n"
     ]
    },
    {
     "data": {
      "image/png": "[encoded data removed]",
      "text/plain": [
       "<Figure size 432x288 with 1 Axes>"
      ]
     },
     "metadata": {},
     "output_type": "display_data"
    }
   ],
   "source": [
    "#import iris dataset\n",
    "iris = datasets.load_iris()\n",
    "X = iris.data[:,[2,3]]  #taking first two columns: petal length and width\n",
    "Y = iris.target\n",
    "\n",
    "#split into training and test data\n",
    "X_train, X_test, Y_train, Y_test = train_test_split(X, Y, test_size = 0.4, \n",
    "                                                    random_state = 5)\n",
    "\n",
    "#multinomial logistic regression \n",
    "clf = GaussianNB()\n",
    "\n",
    "#fit the data\n",
    "clf.fit(X_train,Y_train)\n",
    "Y_pred= clf.predict(X_test)\n",
    "\n",
    "\n",
    "print(\"The accuracy of the model is:\")\n",
    "print(\"--------------------------------\")\n",
    "print(metrics.accuracy_score(Y_test, Y_pred))\n",
    "\n",
    "#Plot the decision boundary \n",
    "x_min, x_max = X[:,0].min() - .5, X[:,0].max() + .5\n",
    "y_min, y_max = X[:,1].min() - .5, X[:,1].max() + .5\n",
    "h = 0.02  #step size in mesh\n",
    "\n",
    "xx,yy = np.meshgrid(np.arange(x_min, x_max, h), np.arange(y_min, y_max, h))\n",
    "Z = clf.predict(np.c_[xx.ravel(), yy.ravel()])\n",
    "\n",
    "#Put the result into a color plot\n",
    "Z = Z.reshape(xx.shape)\n",
    "plt.pcolormesh(xx, yy, Z, cmap = plt.cm.Paired)\n",
    "\n",
    "#plot the training points \n",
    "markers = ('o', 'x','s')\n",
    "colors = ('magenta', 'blue', 'red')\n",
    "cmap = ListedColormap(colors[:len(np.unique(Y_test))])\n",
    "for idx, cl in enumerate(np.unique(Y)): \n",
    "    plt.scatter(x=X[Y==cl, 0], y=X[Y==cl, 1], c=cmap(idx), \n",
    "                marker = markers[idx], label=cl, s=75)\n",
    "plt.xlabel('Petal length', fontsize = 20)\n",
    "plt.ylabel('Petal width', fontsize = 20)\n",
    "\n",
    "plt.xlim(xx.min(),xx.max())\n",
    "plt.ylim(yy.min(),yy.max())\n",
    "plt.xticks(())\n",
    "plt.yticks(())\n",
    "\n",
    "#plt.show()\n",
    "plt.savefig('GNB_iris_2.eps', format='eps', dpi=1000)\n",
    "print('Misclassified samples: %d' % (Y_test != Y_pred).sum())"
   ]
  },
  {
   "cell_type": "code",
   "execution_count": 36,
   "metadata": {},
   "outputs": [
    {
     "name": "stdout",
     "output_type": "stream",
     "text": [
      "There are 90 samples in the training set and 60 sampels in the test set\n",
      "Misclassified samples: 2\n",
      "The accuracy of the model is:\n",
      "--------------------------------\n",
      "0.9666666666666667\n"
     ]
    }
   ],
   "source": [
    "#GNB on all features of iris dataset\n",
    "##########################################################\n",
    "import numpy as np      #linear algebra\n",
    "import pandas as pd      #data processing\n",
    "from sklearn.naive_bayes import GaussianNB\n",
    "from sklearn import model_selection\n",
    "from sklearn import datasets\n",
    "from sklearn import metrics\n",
    "import matplotlib.pyplot as plt\n",
    "import seaborn as sns\n",
    "from sklearn.model_selection import train_test_split\n",
    "from sklearn.metrics import accuracy_score\n",
    "from sklearn.metrics import classification_report\n",
    "from sklearn.metrics import confusion_matrix\n",
    "from matplotlib.colors import ListedColormap\n",
    "\n",
    "\n",
    "iris = datasets.load_iris()\n",
    "\n",
    "X = iris.data\n",
    "Y = iris.target\n",
    "\n",
    "#split into training and test data\n",
    "X_train, X_test, Y_train, Y_test = train_test_split(X, Y, test_size = 0.4, \n",
    "                                                    random_state = 5)\n",
    "\n",
    "print('There are {} samples in the training set and {} sampels in the test set'\n",
    "      .format(X_train.shape[0], Y_test.shape[0]))\n",
    "\n",
    "\n",
    "gnb = GaussianNB()\n",
    "gnb.fit(X_train, Y_train)\n",
    "\n",
    "Y_pred =  gnb.fit(X_train, Y_train).predict(X_test)\n",
    "print('Misclassified samples: %d' % (Y_test != Y_pred).sum())\n",
    "\n",
    "\n",
    "print(\"The accuracy of the model is:\")\n",
    "print(\"--------------------------------\")\n",
    "print(metrics.accuracy_score(Y_test, Y_pred))"
   ]
  },
  {
   "cell_type": "code",
   "execution_count": null,
   "metadata": {},
   "outputs": [],
   "source": []
  }
 ],
 "metadata": {
  "kernelspec": {
   "display_name": "Python 3",
   "language": "python",
   "name": "python3"
  },
  "language_info": {
   "codemirror_mode": {
    "name": "ipython",
    "version": 3
   },
   "file_extension": ".py",
   "mimetype": "text/x-python",
   "name": "python",
   "nbconvert_exporter": "python",
   "pygments_lexer": "ipython3",
   "version": "3.7.0"
  }
 },
 "nbformat": 4,
 "nbformat_minor": 2
}
