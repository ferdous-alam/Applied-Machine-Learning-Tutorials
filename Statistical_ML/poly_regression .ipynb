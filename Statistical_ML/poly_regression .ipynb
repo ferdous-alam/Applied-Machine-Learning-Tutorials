{
 "cells": [
  {
   "cell_type": "code",
   "execution_count": 46,
   "metadata": {},
   "outputs": [
    {
     "name": "stdout",
     "output_type": "stream",
     "text": [
      "dict_keys(['data', 'target', 'feature_names', 'DESCR'])\n",
      "(404, 13)\n"
     ]
    },
    {
     "data": {
      "text/plain": [
       "0.7330206818709372"
      ]
     },
     "execution_count": 46,
     "metadata": {},
     "output_type": "execute_result"
    }
   ],
   "source": [
    "import operator\n",
    "import numpy as np\n",
    "import matplotlib.pyplot as plt\n",
    "from scipy.stats import norm\n",
    "from sklearn.metrics import mean_squared_error, r2_score\n",
    "import pandas as pd\n",
    "import seaborn as sns\n",
    "from sklearn.datasets import load_boston\n",
    "from sklearn.linear_model import LinearRegression\n",
    "from sklearn.preprocessing import PolynomialFeatures\n",
    "boston = load_boston()\n",
    "print (boston.keys())\n",
    "boston.data.shape\n",
    "from sklearn.model_selection import train_test_split\n",
    "X_train,X_test,Y_train,Y_test=train_test_split(boston.data,boston.target,\n",
    "                                              test_size=0.2, random_state=5)\n",
    "print(X_train.shape)\n",
    "from sklearn.linear_model import LinearRegression\n",
    "from sklearn.metrics import mean_squared_error, r2_score\n",
    "lin_reg_model = LinearRegression() \n",
    "lin_reg_model.fit(X_train,Y_train)\n",
    "lin_reg_model.score(X_test,Y_test)"
   ]
  },
  {
   "cell_type": "code",
   "execution_count": 47,
   "metadata": {
    "scrolled": true
   },
   "outputs": [
    {
     "name": "stdout",
     "output_type": "stream",
     "text": [
      "THe model performance for training set\n",
      "--------------------------------------\n",
      "RMSE is 4.740823080328723\n",
      "R2 is 0.7383590299644471\n",
      "\n",
      "\n",
      "THe model performance for test set\n",
      "--------------------------------------\n",
      "RMSE is 4.5719627820414575\n",
      "R2 is 0.7330206818709372\n",
      "\n",
      "\n"
     ]
    }
   ],
   "source": [
    "#model evaluation for train data\n",
    "Y_train_predict = lin_reg_model.predict(X_train)\n",
    "rmse = (np.sqrt(mean_squared_error(Y_train,Y_train_predict)))\n",
    "r2 = r2_score(Y_train,Y_train_predict)\n",
    "print(\"THe model performance for training set\")\n",
    "print(\"--------------------------------------\")\n",
    "print('RMSE is {}'.format(rmse))\n",
    "print('R2 is {}'.format(r2))\n",
    "print(\"\\n\")\n",
    "#model evaluation for test data\n",
    "Y_test_predict = lin_reg_model.predict(X_test)\n",
    "rmse = (np.sqrt(mean_squared_error(Y_test,Y_test_predict)))\n",
    "r2 = r2_score(Y_test,Y_test_predict)\n",
    "print(\"THe model performance for test set\")\n",
    "print(\"--------------------------------------\")\n",
    "print('RMSE is {}'.format(rmse))\n",
    "print('R2 is {}'.format(r2))\n",
    "print(\"\\n\")"
   ]
  },
  {
   "cell_type": "code",
   "execution_count": 60,
   "metadata": {},
   "outputs": [
    {
     "name": "stdout",
     "output_type": "stream",
     "text": [
      "2.422070264739827\n",
      "0.9317077015526821\n"
     ]
    }
   ],
   "source": [
    "poly_features = PolynomialFeatures(degree = 2)\n",
    "X_train_poly = poly_features.fit_transform(X_train)\n",
    "poly_model = LinearRegression() \n",
    "poly_model.fit(X_train_poly,Y_train)\n",
    "Y_train_pred = poly_model.predict(X_train_poly)\n",
    "rmse_train = np.sqrt(mean_squared_error(Y_train,Y_train_pred))\n",
    "r2_train = r2_score(Y_train,Y_train_pred)\n",
    "print(rmse_train)\n",
    "print (r2_train)"
   ]
  },
  {
   "cell_type": "code",
   "execution_count": 61,
   "metadata": {},
   "outputs": [
    {
     "name": "stdout",
     "output_type": "stream",
     "text": [
      "0.5102288279589149\n",
      "0.9966749189791169\n"
     ]
    }
   ],
   "source": [
    "X_test_poly = poly_features.fit_transform(X_test)\n",
    "poly_model = LinearRegression()\n",
    "poly_model.fit(X_test_poly,Y_test)\n",
    "Y_test_pred = poly_model.predict(X_test_poly)\n",
    "rmse_test = np.sqrt(mean_squared_error(Y_test,Y_test_pred))\n",
    "r2_test = r2_score(Y_test,Y_test_pred)\n",
    "print(rmse_test)\n",
    "print(r2_test)"
   ]
  },
  {
   "cell_type": "code",
   "execution_count": null,
   "metadata": {},
   "outputs": [],
   "source": []
  }
 ],
 "metadata": {
  "kernelspec": {
   "display_name": "Python 3",
   "language": "python",
   "name": "python3"
  },
  "language_info": {
   "codemirror_mode": {
    "name": "ipython",
    "version": 3
   },
   "file_extension": ".py",
   "mimetype": "text/x-python",
   "name": "python",
   "nbconvert_exporter": "python",
   "pygments_lexer": "ipython3",
   "version": "3.7.0"
  }
 },
 "nbformat": 4,
 "nbformat_minor": 2
}
